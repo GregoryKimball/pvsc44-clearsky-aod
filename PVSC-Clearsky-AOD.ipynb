{
 "cells": [
  {
   "cell_type": "markdown",
   "metadata": {},
   "source": [
    "# Use of Measured Aerosol Optical Depth and Precipitable Water to Model Clear Sky Irradiance\n",
    "*presented at: 2017 IEEE PVSC-44*\n",
    "*by: Mark A. Mikofski, Clifford W. Hansen, William F. Holmgren and Gregory M. Kimball*\n",
    "\n",
    "## Analysis\n",
    "Predicting irradiance is crucial for developing solar power systems. Clear sky models are used to predict irradiance based on solar position and atmospheric data. This paper compares clear sky predictions using atmospheric data from ECMWF with irradiance measurments from SURFRAD. This notebook presents the analysis for the paper and presentation given by the authors at the 2017 IEEE PVSC-44 in Washingtion DC June 25-30th.\n",
    "\n",
    "### ECMWF\n",
    "The European Center for Medium Weather Forecast hosts datasets for the EU Copernicus MACC clearsky model. This data set contains aerosol optical depth and total column water vapor data derived from ground measurments and satelite data for the entire globe from 2003 to 2012.\n",
    "\n",
    "### SURFRAD\n",
    "SURFRAD data can be viewed online or downloaded from a [NOAA FTP site](ftp://aftp.cmdl.noaa.gov/data/radiation/surfrad/)."
   ]
  },
  {
   "cell_type": "code",
   "execution_count": null,
   "metadata": {
    "collapsed": true
   },
   "outputs": [],
   "source": [
    "\"\"\"Get SURFRAD data from NOAA\"\"\"\n",
    "\n",
    "from ftplib import FTP\n",
    "\n",
    "NOAA_FTP = 'aftp.cmdl.noaa.gov'\n",
    "SURFRAD_PATH = '/'.join(['data', 'radiation', 'surfrad'])\n",
    "SURFRAD_SITES = ['Bondville_IL', 'Boulder_CO', 'Desert_Rock_NV', 'Fort_Peck_MT', 'Goodwin_Creek_MS'\n",
    "                 'Penn_State_PA', 'Sioux_Falls_SD']\n",
    "TOO_SOON = 'Alamosa_CO', 'Red_Lake_AZ', 'Rutland_VT', 'Wasco_OR'\n",
    "\n",
    "noaa_ftp_conn = FTP(NOAA_FTP)\n",
    "noaa_ftp_conn.connect()  # if timedout\n",
    "noaa_ftp_conn.login()  # as anonymous\n",
    "noaa_ftp_conn.cwd(SURFRAD_PATH)\n",
    "\n",
    "for surfrad_site in SURFRAD_SITES:\n",
    "    noaa.cwd(surfrad_site)\n",
    "    noaa_ftp_conn.retrlines('LIST')\n",
    "    y = []\n",
    "    x = noaa_ftp_conn.retrlines('NLST', lambda x: y.append(x))\n",
    "\n",
    "with open('bon03001.dat', 'wb') as f:\n",
    "    noaa.retrbinary('RETR %s' % 'bon03001.dat', f.write)"
   ]
  },
  {
   "cell_type": "markdown",
   "metadata": {},
   "source": [
    "<a rel=\"license\" href=\"http://creativecommons.org/licenses/by/4.0/\"><img alt=\"Creative Commons License\" style=\"border-width:0\" src=\"https://i.creativecommons.org/l/by/4.0/88x31.png\" /></a><br /><span xmlns:dct=\"http://purl.org/dc/terms/\" href=\"http://purl.org/dc/dcmitype/Text\" property=\"dct:title\" rel=\"dct:type\">Use of Measured Aerosol Optical Depth and Precipitable Water to Model Clear Sky Irradiance</span> by <a xmlns:cc=\"http://creativecommons.org/ns#\" href=\"https://github.com/mikofski/pvsc44-clearsky-aod\" property=\"cc:attributionName\" rel=\"cc:attributionURL\">Mark A. Mikofski, Clifford W. Hansen, William F. Holmgren and Gregory M. Kimball</a> is licensed under a <a rel=\"license\" href=\"http://creativecommons.org/licenses/by/4.0/\">Creative Commons Attribution 4.0 International License</a>."
   ]
  },
  {
   "cell_type": "code",
   "execution_count": null,
   "metadata": {
    "collapsed": true
   },
   "outputs": [],
   "source": []
  }
 ],
 "metadata": {
  "kernelspec": {
   "display_name": "Python 2",
   "language": "python",
   "name": "python2"
  },
  "language_info": {
   "codemirror_mode": {
    "name": "ipython",
    "version": 2
   },
   "file_extension": ".py",
   "mimetype": "text/x-python",
   "name": "python",
   "nbconvert_exporter": "python",
   "pygments_lexer": "ipython2",
   "version": "2.7.13"
  }
 },
 "nbformat": 4,
 "nbformat_minor": 2
}
