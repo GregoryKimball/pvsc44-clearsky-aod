{
 "cells": [
  {
   "cell_type": "markdown",
   "metadata": {},
   "source": [
    "# Use of Measured Aerosol Optical Depth and Precipitable Water to Model Clear Sky Irradiance\n",
    "*presented at: 2017 IEEE PVSC-44*\n",
    "*by: Mark A. Mikofski, Clifford W. Hansen, William F. Holmgren and Gregory M. Kimball*\n",
    "\n",
    "## Introduction\n",
    "Predicting irradiance is crucial for developing solar power systems. Clear sky models are used to predict irradiance based on solar position and atmospheric data. This paper compares clear sky predictions using atmospheric data from ECMWF with irradiance measurments from SURFRAD. This notebook presents the analysis for the paper and presentation given by the authors at the 2017 IEEE PVSC-44 in Washingtion DC June 25-30th.\n",
    "\n",
    "## Data\n",
    "Two sources of data are used in this analysis, SURFRAD and ECMWF, each described in the following sections.\n",
    "\n",
    "### SURFRAD\n",
    "SURFRAD data from NOAA contains irradiance measurements at sub-hour increments from seven sites accross the United States. The data can be viewed online or downloaded from a NOAA FTP site <ftp://aftp.cmdl.noaa.gov/data/radiation/surfrad/>. Data is organized folders for each site and yearly subfolders containing individual daily files. The `README` in each site folder provides additional information such as the format of the files, types of data in each column and definitions of abbreviations. The first two rows of each daily file contains header information about the file. The first line is the station name and the second line contains the latitude, longitude and elevation.\n",
    "\n",
    "|station id |tz    |station name  |latitude |longitude |elevation |\n",
    "|-----------|------|--------------|---------|----------|----------|\n",
    "|bon        |-6.0  |     Bondville|    40.05|    -88.37|       213|\n",
    "|tbl        |-7.0  |Table Mountain|    40.13|   -105.24|      1689|\n",
    "|dra        |-8.0  |   Desert Rock|    36.62|   -116.02|      1007|\n",
    "|fpk        |-7.0  |     Fort Peck|    48.31|   -105.10|       634|\n",
    "|gwn        |-6.0  | Goodwin Creek|    34.25|    -89.87|        98|\n",
    "|psu        |-5.0  |    Penn State|    40.72|    -77.93|       376|\n",
    "|sxf        |-6.0  |   Sioux Falls|    43.73|    -96.62|       473|\n",
    "\n",
    "### ECMWF\n",
    "The European Center for Medium Weather Forecast hosts datasets for the EU Copernicus MACC clearsky model. This data set contains aerosol optical depth and total column water vapor data derived from ground measurments and satelite data for the entire globe from 2003 to 2012.\n"
   ]
  },
  {
   "cell_type": "code",
   "execution_count": 1,
   "metadata": {
    "collapsed": true
   },
   "outputs": [],
   "source": [
    "# imports and settings\n",
    "import os\n",
    "\n",
    "from matplotlib import pyplot as plt\n",
    "import numpy as np\n",
    "import pandas as pd\n",
    "import pvlib\n",
    "import seaborn as sns\n",
    "\n",
    "%matplotlib inline\n",
    "\n",
    "sns.set_context('notebook', rc={'figure.figsize': (16, 8)})"
   ]
  },
  {
   "cell_type": "code",
   "execution_count": 2,
   "metadata": {
    "collapsed": true
   },
   "outputs": [],
   "source": [
    "# get the \"metadata\" that contains the timezone, latitude, longitude, elevation and station id for SURFRAD\n",
    "METADATA = pd.read_csv('metadata.csv', index_col=0)"
   ]
  },
  {
   "cell_type": "code",
   "execution_count": 3,
   "metadata": {
    "collapsed": true,
    "scrolled": true
   },
   "outputs": [],
   "source": [
    "# get SURFRAD data\n",
    "DATADIR = 'surfrad'  # folder where SURFRAD data is stored relative to this file\n",
    "NA_VAL = '-9999.9'  # value SURFRAD uses for missing data\n",
    "USECOLS = [0, 6, 7, 8, 9, 10, 11, 12]  # omit 1:year, 2:month, 3:day, 4:hour, 5:minute and 13:jday columns\n",
    "# read 2003 data for Bondville, IL\n",
    "bon = pd.read_csv(\n",
    "    os.path.join(DATADIR, 'bon03.csv'),\n",
    "    index_col=0,\n",
    "    usecols=[0, 6, 7, 8, 9, 10, 11, 12],\n",
    "    na_values=NA_VAL)\n",
    "# append the data from 2003 to 2012 which coincides with the ECMWF data available\n",
    "for y in xrange(2004, 2013):\n",
    "    bon = bon.append(pd.read_csv(\n",
    "        os.path.join(DATADIR, 'bon%s.csv' % str(y)[-2:]),\n",
    "        index_col=0,\n",
    "        usecols=[0, 6, 7, 8, 9, 10, 11, 12],\n",
    "        na_values=NA_VAL\n",
    "    ))\n",
    "bon.index.rename('timestamps', inplace=True)"
   ]
  },
  {
   "cell_type": "code",
   "execution_count": null,
   "metadata": {
    "collapsed": true
   },
   "outputs": [],
   "source": [
    "# get AOD and water vapor for the Bondville, IL site."
   ]
  },
  {
   "cell_type": "code",
   "execution_count": null,
   "metadata": {},
   "outputs": [],
   "source": [
    "bon.index.name"
   ]
  },
  {
   "cell_type": "code",
   "execution_count": null,
   "metadata": {},
   "outputs": [],
   "source": [
    "bon[['dni', 'dhi', 'ghi']]['2003-06-15':'2003-06-16'].plot()"
   ]
  },
  {
   "cell_type": "code",
   "execution_count": null,
   "metadata": {
    "collapsed": true
   },
   "outputs": [],
   "source": [
    "%whos"
   ]
  },
  {
   "cell_type": "code",
   "execution_count": null,
   "metadata": {
    "collapsed": true
   },
   "outputs": [],
   "source": [
    "df[df['qc_dwsolar']==0]"
   ]
  },
  {
   "cell_type": "code",
   "execution_count": null,
   "metadata": {
    "collapsed": true
   },
   "outputs": [],
   "source": [
    "df.drop('qc_dwsolar',1)"
   ]
  },
  {
   "cell_type": "code",
   "execution_count": null,
   "metadata": {
    "collapsed": true
   },
   "outputs": [],
   "source": []
  },
  {
   "cell_type": "markdown",
   "metadata": {},
   "source": [
    "![Creative Commons License](https://i.creativecommons.org/l/by/4.0/88x31.png)\n",
    "Use of Measured Aerosol Optical Depth and Precipitable Water to Model Clear Sky Irradiance by [Mark A. Mikofski, Clifford W. Hansen, William F. Holmgren and Gregory M. Kimball](https://github.com/mikofski/pvsc44-clearsky-aod) is licensed under a [Creative Commons Attribution 4.0 International License](https://creativecommons.org/licenses/by/4.0/).\n"
   ]
  }
 ],
 "metadata": {
  "kernelspec": {
   "display_name": "Python 2",
   "language": "python",
   "name": "python2"
  },
  "language_info": {
   "codemirror_mode": {
    "name": "ipython",
    "version": 2
   },
   "file_extension": ".py",
   "mimetype": "text/x-python",
   "name": "python",
   "nbconvert_exporter": "python",
   "pygments_lexer": "ipython2",
   "version": "2.7.13"
  }
 },
 "nbformat": 4,
 "nbformat_minor": 2
}
