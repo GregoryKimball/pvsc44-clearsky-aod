{
 "cells": [
  {
   "cell_type": "markdown",
   "metadata": {},
   "source": [
    "# Use of Measured Aerosol Optical Depth and Precipitable Water to Model Clear Sky Irradiance\n",
    "*presented at: 2017 IEEE PVSC-44*\n",
    "*by: Mark A. Mikofski, Clifford W. Hansen, William F. Holmgren and Gregory M. Kimball*\n",
    "\n",
    "## Analysis\n",
    "Predicting irradiance is crucial for developing solar power systems. Clear sky models are used to predict irradiance based on solar position and atmospheric data. This paper compares clear sky predictions using atmospheric data from ECMWF with irradiance measurments from SURFRAD. This notebook presents the analysis for the paper and presentation given by the authors at the 2017 IEEE PVSC-44 in Washingtion DC June 25-30th.\n",
    "\n",
    "### ECMWF\n",
    "The European Center for Medium Weather Forecast hosts datasets for the EU Copernicus MACC clearsky model. This data set contains aerosol optical depth and total column water vapor data derived from ground measurments and satelite data for the entire globe from 2003 to 2012.\n",
    "\n",
    "### SURFRAD\n",
    "SURFRAD data can be viewed online or downloaded from a NOAA FTP site <ftp://aftp.cmdl.noaa.gov/data/radiation/surfrad/>."
   ]
  },
  {
   "cell_type": "code",
   "execution_count": null,
   "metadata": {
    "collapsed": true
   },
   "outputs": [],
   "source": [
    "# imports\n",
    "from datetime import datetime\n",
    "from ftplib import FTP\n",
    "import logging\n",
    "from StringIO import StringIO\n",
    "\n",
    "import h5py\n",
    "from matplotlib import pyplot as plt\n",
    "import numpy as np\n",
    "import pandas as pd\n",
    "import seaborn as sns\n",
    "\n",
    "%matplotlib inline\n",
    "\n",
    "# set figure size\n",
    "sns.set_context('notebook', rc={'figure.figsize': (16, 8)})\n",
    "\n",
    "# logging\n",
    "logging.basicConfig()\n",
    "LOGGER = logging.getLogger('pvsc44-clearsky-aod')\n",
    "LOGGER.setLevel(logging.DEBUG)\n"
   ]
  },
  {
   "cell_type": "code",
   "execution_count": null,
   "metadata": {
    "scrolled": true
   },
   "outputs": [],
   "source": [
    "# Get SURFRAD data from NOAA\n",
    "\n",
    "TESTING = True  # flag for testing\n",
    "ECMWF_MACC_START = 2003\n",
    "ECMWF_MACC_STOP = 2012\n",
    "NOAA_FTP = 'aftp.cmdl.noaa.gov'\n",
    "SURFRAD_PATH = '/'.join(['data', 'radiation', 'surfrad'])\n",
    "SURFRAD_SITES = {'Bondville_IL': 'bon', 'Boulder_CO': 'tbl', 'Desert_Rock_NV': 'dra', 'Fort_Peck_MT': 'fpk',\n",
    "                 'Goodwin_Creek_MS': 'gwn', 'Penn_State_PA': 'psu', 'Sioux_Falls_SD': 'sxf'}\n",
    "# these sites have data outside of the time range of the atmospheric measurements\n",
    "TOO_SOON = 'Alamosa_CO', 'Red_Lake_AZ', 'Rutland_VT', 'Wasco_OR'\n",
    "DTYPES = [int, int, int, int, int, int, float, float, float, int, float, int, float, int, float, int, float, int, float, int,\n",
    "          float, int, float, int, float, int, float, int, float, int, float, int, float, int, float, int, float, int, float, int,\n",
    "          float, int, float, int, float, int, float, int]\n",
    "NAMES = ['year', 'jday', 'month', 'day', 'hour', 'min', 'dt', 'zen', 'dw_solar', 'qc_dwsolar', 'uw_solar', 'qc_uwsolar',\n",
    "         'direct_n', 'qc_direct_n', 'diffuse', 'qc_diffuse', 'dw_ir', 'qc_dwir', 'dw_casetemp', 'qc_dwcasetemp',\n",
    "         'dw_dometemp', 'qc_dwdometemp', 'uw_ir', 'qc_uwir', 'uw_casetemp', 'qc_uwcasetemp', 'uw_dometemp', 'qc_uwdometemp',\n",
    "         'uvb', 'qc_uvb', 'par', 'qc_par', 'netsolar', 'qc_netsolar', 'netir', 'qc_netir', 'totalnet', 'qc_totalnet',\n",
    "         'temp', 'qc_temp', 'rh', 'qc_rh', 'windspd', 'qc_windspd', 'winddir', 'qc_winddir', 'pressure', 'qc_pressure']\n",
    "\n",
    "noaa_ftp_conn = FTP(NOAA_FTP)  # connection\n",
    "noaa_ftp_conn.connect()  # if timedout\n",
    "noaa_ftp_conn.login()  # as anonymous\n",
    "noaa_ftp_conn.cwd(SURFRAD_PATH)  # navigate to surfrad folder\n",
    "\n",
    "# loop over sites\n",
    "data = {}\n",
    "stations = {}\n",
    "for surfrad_site, station_id in SURFRAD_SITES.iteritems():\n",
    "    noaa_ftp_conn.cwd(surfrad_site)  # open site folder\n",
    "    years = []  # get list of available years\n",
    "    noaa_ftp_conn.retrlines('NLST', lambda _: years.append(_))\n",
    "    # loop over yearly site data\n",
    "    for y in years:\n",
    "        # skip any non-year items in the folder\n",
    "        try:\n",
    "            year = int(y)\n",
    "        except ValueError:\n",
    "            continue\n",
    "        # limit to data overlapping ECMWF atmospheric data (for now)\n",
    "        if ECMWF_MACC_START <= year <= ECMWF_MACC_STOP:\n",
    "            noaa_ftp_conn.cwd(y)  # open site folder\n",
    "            files = []  # get list of available daily datafiles\n",
    "            noaa_ftp_conn.retrlines('NLST', lambda _: files.append(_))\n",
    "            for f in files:\n",
    "                buf = StringIO()  # buffer is a Python builtin, **SURPRISE!**\n",
    "                noaa_ftp_conn.retrbinary('RETR %s' % f, buf.write)\n",
    "                buf.seek(0)\n",
    "                station_name = buf.readline().strip()\n",
    "                latitude, longitude, elevation, _ = buf.readline().split(None, 3)\n",
    "                if station_id not in stations:\n",
    "                    stations[station_id] = [(year, f, station_name, float(latitude), float(longitude), float(elevation))]\n",
    "                else:\n",
    "                    stations[station_id].append((year, f, station_name, float(latitude), float(longitude), float(elevation)))\n",
    "                df = pd.read_table(buf, names=NAMES, dtype=zip(NAMES, DTYPES), delim_whitespace=True,\n",
    "                                   parse_dates=[['year', 'month', 'day', 'hour', 'min']],\n",
    "                                   date_parser=lambda y, mo, d, h, m: datetime(y, mo, d, h, m),\n",
    "                                   na_values='-9999.9', index_col='year_month_day_hour_min')\n",
    "                if station_id not in data:\n",
    "                    data[station_id] = df\n",
    "                else:\n",
    "                    data[station_id] = data[station_id].append(df)\n",
    "            noaa_ftp_conn.cwd('..')  # open site folder\n",
    "            start, stop = ('%d-01-01T00:00:00' % year), ('%d-12-31T23:59:59' % year)\n",
    "            data_array = data[station_id][start:stop].to_records()\n",
    "            data_array = data_array.astype(np.dtype(\n",
    "                [('year_month_day_hour_min', str, 30)]\n",
    "                + [(str(n), d) for n, d in data_array.dtype.descr if n != 'year_month_day_hour_min']\n",
    "            ))\n",
    "            try:\n",
    "                with h5py.File('%s-%d.h5' % (station_id, year)) as h5f: h5f['data'] = data_array\n",
    "            except RuntimeError:\n",
    "                pass\n",
    "    LOGGER.debug('station: %s', station_name)"
   ]
  },
  {
   "cell_type": "markdown",
   "metadata": {},
   "source": [
    "![Creative Commons License](https://i.creativecommons.org/l/by/4.0/88x31.png)\n",
    "Use of Measured Aerosol Optical Depth and Precipitable Water to Model Clear Sky Irradiance by [Mark A. Mikofski, Clifford W. Hansen, William F. Holmgren and Gregory M. Kimball](https://github.com/mikofski/pvsc44-clearsky-aod) is licensed under a [Creative Commons Attribution 4.0 International License](https://creativecommons.org/licenses/by/4.0/).\n"
   ]
  },
  {
   "cell_type": "code",
   "execution_count": null,
   "metadata": {},
   "outputs": [],
   "source": [
    "data['sxf'][['zen', 'dw_solar', 'direct_n', 'diffuse', 'temp', 'rh', 'windspd', 'winddir', 'pressure']]['2003-06-15':'2003-06-16']"
   ]
  },
  {
   "cell_type": "code",
   "execution_count": null,
   "metadata": {},
   "outputs": [],
   "source": [
    "data['sxf'][['direct_n', 'diffuse']]['2003-06-15':'2003-06-16'].plot()"
   ]
  },
  {
   "cell_type": "code",
   "execution_count": null,
   "metadata": {
    "collapsed": true
   },
   "outputs": [],
   "source": []
  }
 ],
 "metadata": {
  "kernelspec": {
   "display_name": "Python 2",
   "language": "python",
   "name": "python2"
  },
  "language_info": {
   "codemirror_mode": {
    "name": "ipython",
    "version": 2
   },
   "file_extension": ".py",
   "mimetype": "text/x-python",
   "name": "python",
   "nbconvert_exporter": "python",
   "pygments_lexer": "ipython2",
   "version": "2.7.13"
  }
 },
 "nbformat": 4,
 "nbformat_minor": 2
}
